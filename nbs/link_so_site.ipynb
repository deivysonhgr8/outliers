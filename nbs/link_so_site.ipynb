{
 "cells": [
  {
   "cell_type": "markdown",
   "id": "72443d89",
   "metadata": {},
   "source": [
    "Para acessar o site com as análises completas, copiei o link abaixo e cole em seu navegador (ou ctrl+clique)\n",
    "\n",
    "\n",
    "https://68b781daf095052289c7d01b--bejewelled-empanada-55ded5.netlify.app/"
   ]
  }
 ],
 "metadata": {
  "language_info": {
   "name": "python"
  }
 },
 "nbformat": 4,
 "nbformat_minor": 5
}
